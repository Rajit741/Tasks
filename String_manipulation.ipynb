{
 "cells": [
  {
   "cell_type": "markdown",
   "id": "178fe9e4",
   "metadata": {},
   "source": [
    "s=\"   $python is fun, python is easy, but python is tough when you don't practice it revise it@      \"\n",
    "\n",
    "1. How many characters are present  in the above string\n",
    "2. split the string using commas(,)\n",
    "3. count the frequency of \"python\"\n",
    "4. count the frequency of \"is\"\n",
    "5. check the +,-,*,/,// of 3 and 4 results\n",
    "6. replace \"when \" with \"if and only if\"\n",
    "7. find the difference in the number of characters in original string and number of characters when you replaced the \"python \" with \"data science\".\n",
    "replace only the last occurring python with data sciences\n",
    "8. read a string dynamically (user input) if your string is having odd number of characters print: true otherwise print : False\n",
    "eg: Innomatics : o/p : False, \n",
    "datascience : o/p : True"
   ]
  }
 ],
 "metadata": {
  "kernelspec": {
   "display_name": "Python 3 (ipykernel)",
   "language": "python",
   "name": "python3"
  },
  "language_info": {
   "codemirror_mode": {
    "name": "ipython",
    "version": 3
   },
   "file_extension": ".py",
   "mimetype": "text/x-python",
   "name": "python",
   "nbconvert_exporter": "python",
   "pygments_lexer": "ipython3",
   "version": "3.11.4"
  }
 },
 "nbformat": 4,
 "nbformat_minor": 5
}
