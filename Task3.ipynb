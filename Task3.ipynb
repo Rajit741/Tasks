{
 "cells": [
  {
   "cell_type": "markdown",
   "id": "110812e8",
   "metadata": {},
   "source": [
    "Assignment Tasks on String Escape Characters, Indexing, and Slicing:\n",
    "\n",
    "**String Escape Characters:**\n",
    "\n",
    "Task 1:\n",
    "1. Create a string containing a sentence that includes both single and double quotes.\n",
    "2. Use escape characters to include quotes within the string.\n",
    "3. Print the modified string.\n",
    "\n",
    "Task 2:\n",
    "1. Declare a string with a backslash \\ character in it.\n",
    "2. Demonstrate the use of the escape character to print the backslash itself.\n",
    "3. Print the resulting string.\n",
    "\n",
    "Task 3:\n",
    "1. Construct a string containing newline and tab escape sequences.\n",
    "2. Print the string to display the formatted output.\n",
    "\n",
    "**Indexing and Slicing:**\n",
    "\n",
    "Task 4:\n",
    "1.  sentence = \"I want to become Data Scientist\".\n",
    "2. Access and print the `first character` of the string using indexing.\n",
    "3. Access and print the `last character` of the string using negative indexing.\n",
    "\n",
    "Task 5:\n",
    "1. What are `possible ways` yo extract `Scientist`(use forward and reverse)\n",
    "2. Use slicing to extract and print the `first word` from the string.\n",
    "3. Use slicing to extract and print the `last three` characters of the string.\n",
    "\n",
    "Task 6:\n",
    "1. name = \"Innomatics Reserach Labs\"\n",
    "2. Apply slicing to extract a substring that includes the `second to fifth` characters.\n",
    "3. `Print` the extracted substring.\n",
    "\n",
    "Task 7:\n",
    "1. string = \"Python@1234\"\n",
    "2. Use slicing to extract every second character from the string.\n",
    "3. Print the resulting sliced string.\n",
    "\n",
    "Task 8:\n",
    "1.  print last five letters.\n",
    "2. Utilize slicing to reverse the word order in the string.\n",
    "3. Print the string with the words in the reversed order.\n",
    "\n",
    "Task 9:\n",
    "1. a = \"123123123\"\n",
    "2. Apply slicing to extract only the numeric characters at odd positions.\n",
    "3. Print the sliced result.\n",
    "\n",
    "Remember to include explanations or comments for each task's code to ensure clarity. Additionally, encourage students to experiment further with different escape characters and slicing techniques beyond the provided tasks to deepen their understanding."
   ]
  },
  {
   "cell_type": "code",
   "execution_count": null,
   "id": "7608f3bf",
   "metadata": {},
   "outputs": [],
   "source": []
  }
 ],
 "metadata": {
  "kernelspec": {
   "display_name": "Python 3 (ipykernel)",
   "language": "python",
   "name": "python3"
  },
  "language_info": {
   "codemirror_mode": {
    "name": "ipython",
    "version": 3
   },
   "file_extension": ".py",
   "mimetype": "text/x-python",
   "name": "python",
   "nbconvert_exporter": "python",
   "pygments_lexer": "ipython3",
   "version": "3.11.4"
  }
 },
 "nbformat": 4,
 "nbformat_minor": 5
}
