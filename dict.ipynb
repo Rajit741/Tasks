{
 "cells": [
  {
   "cell_type": "markdown",
   "id": "43a62900",
   "metadata": {},
   "source": [
    "##### Creating Dictionary"
   ]
  },
  {
   "cell_type": "code",
   "execution_count": 1,
   "id": "94a28d1d",
   "metadata": {},
   "outputs": [],
   "source": [
    "#first method\n",
    "fruits = {1:'Apple',2:'Mango',3:\"Orange\"}"
   ]
  },
  {
   "cell_type": "code",
   "execution_count": 2,
   "id": "cda6d46d",
   "metadata": {},
   "outputs": [
    {
     "data": {
      "text/plain": [
       "{1: 'Apple', 2: 'Mango', 3: 'Orange'}"
      ]
     },
     "execution_count": 2,
     "metadata": {},
     "output_type": "execute_result"
    }
   ],
   "source": [
    "fruits"
   ]
  },
  {
   "cell_type": "code",
   "execution_count": 3,
   "id": "9d6d3325",
   "metadata": {},
   "outputs": [
    {
     "data": {
      "text/plain": [
       "dict"
      ]
     },
     "execution_count": 3,
     "metadata": {},
     "output_type": "execute_result"
    }
   ],
   "source": [
    "type(fruits)"
   ]
  },
  {
   "cell_type": "code",
   "execution_count": 4,
   "id": "9a90f3fb",
   "metadata": {},
   "outputs": [],
   "source": [
    "#2nd method\n",
    "#from tuples"
   ]
  },
  {
   "cell_type": "code",
   "execution_count": 5,
   "id": "436aeeda",
   "metadata": {},
   "outputs": [],
   "source": [
    "states = dict((('TS',\"Hyd\"),(\"AP\",\"Vizag\"),(\"KA\",\"BNG\"),(\"MH\",\"Mumbai\")))"
   ]
  },
  {
   "cell_type": "code",
   "execution_count": 6,
   "id": "081eb05d",
   "metadata": {},
   "outputs": [
    {
     "data": {
      "text/plain": [
       "{'TS': 'Hyd', 'AP': 'Vizag', 'KA': 'BNG', 'MH': 'Mumbai'}"
      ]
     },
     "execution_count": 6,
     "metadata": {},
     "output_type": "execute_result"
    }
   ],
   "source": [
    "states"
   ]
  },
  {
   "cell_type": "code",
   "execution_count": 7,
   "id": "cf5fc2a9",
   "metadata": {},
   "outputs": [],
   "source": [
    "#3rd method"
   ]
  },
  {
   "cell_type": "code",
   "execution_count": 13,
   "id": "b3ac6bd4",
   "metadata": {},
   "outputs": [],
   "source": [
    "num = dict(one = 100,two = 200,three = 300,four = 400)"
   ]
  },
  {
   "cell_type": "code",
   "execution_count": 15,
   "id": "d2f5379b",
   "metadata": {},
   "outputs": [
    {
     "data": {
      "text/plain": [
       "dict"
      ]
     },
     "execution_count": 15,
     "metadata": {},
     "output_type": "execute_result"
    }
   ],
   "source": [
    "type(num)"
   ]
  },
  {
   "cell_type": "code",
   "execution_count": 17,
   "id": "d8bbc060",
   "metadata": {},
   "outputs": [],
   "source": [
    "#4th method\n",
    "keys = [1,2,3,4,5]\n",
    "values = [\"Python\",\"sql\",\"Tableau\",\"Stats\",\"ML\"]\n",
    "\n",
    "lang = dict(zip(keys,values))"
   ]
  },
  {
   "cell_type": "code",
   "execution_count": 19,
   "id": "c7ea1675",
   "metadata": {},
   "outputs": [
    {
     "data": {
      "text/plain": [
       "dict"
      ]
     },
     "execution_count": 19,
     "metadata": {},
     "output_type": "execute_result"
    }
   ],
   "source": [
    "type(lang)"
   ]
  },
  {
   "cell_type": "code",
   "execution_count": 24,
   "id": "18be98c2",
   "metadata": {},
   "outputs": [
    {
     "data": {
      "text/plain": [
       "{1: 'Hello', 2: 'Hai', 3: 'Hello'}"
      ]
     },
     "execution_count": 24,
     "metadata": {},
     "output_type": "execute_result"
    }
   ],
   "source": [
    "{1:\"Hello\",2:\"Hai\",3: \"Hello\"}"
   ]
  },
  {
   "cell_type": "markdown",
   "id": "a256b34f",
   "metadata": {},
   "source": [
    "keys - Unique\n",
    "\n",
    "values - duplicated"
   ]
  },
  {
   "cell_type": "markdown",
   "id": "85da2ca9",
   "metadata": {},
   "source": [
    "### Attrbutes"
   ]
  },
  {
   "cell_type": "markdown",
   "id": "9624982b",
   "metadata": {},
   "source": [
    "Mutable"
   ]
  },
  {
   "cell_type": "code",
   "execution_count": 26,
   "id": "6c7bbaae",
   "metadata": {},
   "outputs": [],
   "source": [
    "d = {1:\"Hello\",2:\"Hai\",3: \"Hello\"} #original"
   ]
  },
  {
   "cell_type": "code",
   "execution_count": 27,
   "id": "850bc341",
   "metadata": {},
   "outputs": [],
   "source": [
    "d[4] = \"Bye\""
   ]
  },
  {
   "cell_type": "code",
   "execution_count": 28,
   "id": "22c98b5e",
   "metadata": {},
   "outputs": [
    {
     "data": {
      "text/plain": [
       "{1: 'Hello', 2: 'Hai', 3: 'Hello', 4: 'Bye'}"
      ]
     },
     "execution_count": 28,
     "metadata": {},
     "output_type": "execute_result"
    }
   ],
   "source": [
    "d"
   ]
  },
  {
   "cell_type": "code",
   "execution_count": 30,
   "id": "eab13082",
   "metadata": {},
   "outputs": [
    {
     "data": {
      "text/plain": [
       "'Bye'"
      ]
     },
     "execution_count": 30,
     "metadata": {},
     "output_type": "execute_result"
    }
   ],
   "source": [
    "d[4]"
   ]
  },
  {
   "cell_type": "markdown",
   "id": "774aa2c7",
   "metadata": {},
   "source": [
    "### methods"
   ]
  },
  {
   "cell_type": "code",
   "execution_count": 31,
   "id": "8b331b55",
   "metadata": {},
   "outputs": [],
   "source": [
    "D = {\"Apple\": 45, \"Grape\":30, \"Mango\": 35, \"Banana\":20, \"Orange\" : 60}"
   ]
  },
  {
   "cell_type": "code",
   "execution_count": 32,
   "id": "f0213625",
   "metadata": {},
   "outputs": [
    {
     "data": {
      "text/plain": [
       "{'Apple': 45, 'Grape': 30, 'Mango': 35, 'Banana': 20, 'Orange': 60}"
      ]
     },
     "execution_count": 32,
     "metadata": {},
     "output_type": "execute_result"
    }
   ],
   "source": [
    "D"
   ]
  },
  {
   "cell_type": "markdown",
   "id": "13ff01a9",
   "metadata": {},
   "source": [
    "##### Acessing values"
   ]
  },
  {
   "cell_type": "code",
   "execution_count": 33,
   "id": "ae8f21c7",
   "metadata": {},
   "outputs": [
    {
     "data": {
      "text/plain": [
       "60"
      ]
     },
     "execution_count": 33,
     "metadata": {},
     "output_type": "execute_result"
    }
   ],
   "source": [
    "D.get('Orange')"
   ]
  },
  {
   "cell_type": "code",
   "execution_count": 34,
   "id": "997207f5",
   "metadata": {},
   "outputs": [
    {
     "data": {
      "text/plain": [
       "60"
      ]
     },
     "execution_count": 34,
     "metadata": {},
     "output_type": "execute_result"
    }
   ],
   "source": [
    "D[\"Orange\"]   #D[Key]"
   ]
  },
  {
   "cell_type": "code",
   "execution_count": 36,
   "id": "6ecae689",
   "metadata": {},
   "outputs": [
    {
     "data": {
      "text/plain": [
       "dict_items([('Apple', 45), ('Grape', 30), ('Mango', 35), ('Banana', 20), ('Orange', 60)])"
      ]
     },
     "execution_count": 36,
     "metadata": {},
     "output_type": "execute_result"
    }
   ],
   "source": [
    "D.items()   #key:value =Items"
   ]
  },
  {
   "cell_type": "code",
   "execution_count": 38,
   "id": "ec340a57",
   "metadata": {},
   "outputs": [
    {
     "data": {
      "text/plain": [
       "dict_keys(['Apple', 'Grape', 'Mango', 'Banana', 'Orange'])"
      ]
     },
     "execution_count": 38,
     "metadata": {},
     "output_type": "execute_result"
    }
   ],
   "source": [
    "D.keys()"
   ]
  },
  {
   "cell_type": "code",
   "execution_count": 39,
   "id": "63af4f21",
   "metadata": {},
   "outputs": [
    {
     "data": {
      "text/plain": [
       "dict_values([45, 30, 35, 20, 60])"
      ]
     },
     "execution_count": 39,
     "metadata": {},
     "output_type": "execute_result"
    }
   ],
   "source": [
    "D.values()"
   ]
  },
  {
   "cell_type": "code",
   "execution_count": 41,
   "id": "bb4d202c",
   "metadata": {},
   "outputs": [
    {
     "data": {
      "text/plain": [
       "35"
      ]
     },
     "execution_count": 41,
     "metadata": {},
     "output_type": "execute_result"
    }
   ],
   "source": [
    "D.pop(\"Mango\")"
   ]
  },
  {
   "cell_type": "code",
   "execution_count": 42,
   "id": "4f5559d7",
   "metadata": {},
   "outputs": [
    {
     "data": {
      "text/plain": [
       "{'Apple': 45, 'Grape': 30, 'Banana': 20, 'Orange': 60}"
      ]
     },
     "execution_count": 42,
     "metadata": {},
     "output_type": "execute_result"
    }
   ],
   "source": [
    "D"
   ]
  },
  {
   "cell_type": "code",
   "execution_count": 43,
   "id": "af6f9f87",
   "metadata": {},
   "outputs": [
    {
     "data": {
      "text/plain": [
       "('Orange', 60)"
      ]
     },
     "execution_count": 43,
     "metadata": {},
     "output_type": "execute_result"
    }
   ],
   "source": [
    "D.popitem()"
   ]
  },
  {
   "cell_type": "code",
   "execution_count": 44,
   "id": "8ed6dccd",
   "metadata": {},
   "outputs": [
    {
     "data": {
      "text/plain": [
       "{'Apple': 45, 'Grape': 30, 'Banana': 20}"
      ]
     },
     "execution_count": 44,
     "metadata": {},
     "output_type": "execute_result"
    }
   ],
   "source": [
    "D"
   ]
  },
  {
   "cell_type": "code",
   "execution_count": 45,
   "id": "4e4e0d85",
   "metadata": {},
   "outputs": [],
   "source": [
    "D.update({\"Kiwi\":100, \"Dragon\":150, \"Papaya\": 40})"
   ]
  },
  {
   "cell_type": "code",
   "execution_count": 47,
   "id": "eb840f0a",
   "metadata": {},
   "outputs": [],
   "source": [
    "D.update({\"Watermelon\":30})"
   ]
  },
  {
   "cell_type": "code",
   "execution_count": 48,
   "id": "76f66d18",
   "metadata": {},
   "outputs": [
    {
     "data": {
      "text/plain": [
       "{'Apple': 45,\n",
       " 'Grape': 30,\n",
       " 'Banana': 20,\n",
       " 'Kiwi': 100,\n",
       " 'Dragon': 150,\n",
       " 'Papaya': 40,\n",
       " 'Watermelon': 30}"
      ]
     },
     "execution_count": 48,
     "metadata": {},
     "output_type": "execute_result"
    }
   ],
   "source": [
    "D"
   ]
  },
  {
   "cell_type": "code",
   "execution_count": 49,
   "id": "f3b052bb",
   "metadata": {},
   "outputs": [],
   "source": [
    "D[\"Custard\"] = 50"
   ]
  },
  {
   "cell_type": "code",
   "execution_count": 50,
   "id": "ec4c392e",
   "metadata": {},
   "outputs": [
    {
     "data": {
      "text/plain": [
       "{'Apple': 45,\n",
       " 'Grape': 30,\n",
       " 'Banana': 20,\n",
       " 'Kiwi': 100,\n",
       " 'Dragon': 150,\n",
       " 'Papaya': 40,\n",
       " 'Watermelon': 30,\n",
       " 'Custard': 50}"
      ]
     },
     "execution_count": 50,
     "metadata": {},
     "output_type": "execute_result"
    }
   ],
   "source": [
    "D"
   ]
  },
  {
   "cell_type": "markdown",
   "id": "a1388f20",
   "metadata": {},
   "source": [
    "Take five cricketers and Their runs"
   ]
  },
  {
   "cell_type": "code",
   "execution_count": 52,
   "id": "64df9259",
   "metadata": {},
   "outputs": [],
   "source": [
    "#fromkeys"
   ]
  },
  {
   "cell_type": "code",
   "execution_count": 71,
   "id": "cf49a873",
   "metadata": {},
   "outputs": [],
   "source": [
    "s = dict.fromkeys([\"DS\",\"DA\",\"SQL\",\"ML\",\"AI\"],75000)"
   ]
  },
  {
   "cell_type": "code",
   "execution_count": 72,
   "id": "7b69cff7",
   "metadata": {},
   "outputs": [
    {
     "data": {
      "text/plain": [
       "80000"
      ]
     },
     "execution_count": 72,
     "metadata": {},
     "output_type": "execute_result"
    }
   ],
   "source": [
    "s.setdefault(\"Tableu\",80000)"
   ]
  },
  {
   "cell_type": "code",
   "execution_count": 73,
   "id": "3b0ac28e",
   "metadata": {},
   "outputs": [
    {
     "data": {
      "text/plain": [
       "{'DS': 75000,\n",
       " 'DA': 75000,\n",
       " 'SQL': 75000,\n",
       " 'ML': 75000,\n",
       " 'AI': 75000,\n",
       " 'Tableu': 80000}"
      ]
     },
     "execution_count": 73,
     "metadata": {},
     "output_type": "execute_result"
    }
   ],
   "source": [
    "s"
   ]
  },
  {
   "cell_type": "code",
   "execution_count": null,
   "id": "e71b9e87",
   "metadata": {},
   "outputs": [],
   "source": [
    "create a dictionary with five india politicions and the values should be \"india\""
   ]
  },
  {
   "cell_type": "code",
   "execution_count": 74,
   "id": "731049f4",
   "metadata": {},
   "outputs": [],
   "source": [
    "pol = {\"Modi\":\"India\",\"Rahul\":\"India\",\"Sonia\":\"India\",\"Yogi\":\"India\",\"KCR\":\"India\"}"
   ]
  },
  {
   "cell_type": "code",
   "execution_count": 75,
   "id": "70ced0cf",
   "metadata": {},
   "outputs": [
    {
     "data": {
      "text/plain": [
       "{'Modi': 'India',\n",
       " 'Rahul': 'India',\n",
       " 'Sonia': 'India',\n",
       " 'Yogi': 'India',\n",
       " 'KCR': 'India'}"
      ]
     },
     "execution_count": 75,
     "metadata": {},
     "output_type": "execute_result"
    }
   ],
   "source": [
    "pol"
   ]
  },
  {
   "cell_type": "code",
   "execution_count": 77,
   "id": "532b41c0",
   "metadata": {},
   "outputs": [],
   "source": [
    "d = dict.fromkeys([\"Modi\",\"Rahul\",\"Sonia\",\"Yogi\",\"KCR\"],'India')"
   ]
  },
  {
   "cell_type": "code",
   "execution_count": 78,
   "id": "fbfc8e64",
   "metadata": {},
   "outputs": [],
   "source": [
    "val= frozenset(d)"
   ]
  },
  {
   "cell_type": "code",
   "execution_count": 79,
   "id": "a9674d0f",
   "metadata": {},
   "outputs": [
    {
     "data": {
      "text/plain": [
       "frozenset({'KCR', 'Modi', 'Rahul', 'Sonia', 'Yogi'})"
      ]
     },
     "execution_count": 79,
     "metadata": {},
     "output_type": "execute_result"
    }
   ],
   "source": [
    "val"
   ]
  },
  {
   "cell_type": "code",
   "execution_count": 80,
   "id": "0ccd6283",
   "metadata": {},
   "outputs": [],
   "source": [
    "d = {10,50,60,70,80}\n"
   ]
  },
  {
   "cell_type": "code",
   "execution_count": 81,
   "id": "d1ac59b5",
   "metadata": {},
   "outputs": [
    {
     "data": {
      "text/plain": [
       "set"
      ]
     },
     "execution_count": 81,
     "metadata": {},
     "output_type": "execute_result"
    }
   ],
   "source": [
    "type(d)"
   ]
  },
  {
   "cell_type": "code",
   "execution_count": 83,
   "id": "fd9b5211",
   "metadata": {},
   "outputs": [],
   "source": [
    "a = frozenset(d) #immutable set"
   ]
  },
  {
   "cell_type": "code",
   "execution_count": null,
   "id": "5b57e729",
   "metadata": {},
   "outputs": [],
   "source": [
    "a."
   ]
  },
  {
   "cell_type": "code",
   "execution_count": 84,
   "id": "eefea426",
   "metadata": {},
   "outputs": [],
   "source": [
    "keys = [1,2,3,4,4,4,5,6]\n",
    "values = ['h','e','l','l','o','!']"
   ]
  },
  {
   "cell_type": "code",
   "execution_count": null,
   "id": "9a000538",
   "metadata": {},
   "outputs": [],
   "source": [
    "{1:'h',2:'e',3:'l',4:'l',5:'o',6 : '!'}"
   ]
  },
  {
   "cell_type": "code",
   "execution_count": 88,
   "id": "ef13e79e",
   "metadata": {},
   "outputs": [],
   "source": [
    "a = set(keys)"
   ]
  },
  {
   "cell_type": "code",
   "execution_count": 90,
   "id": "0f2354ef",
   "metadata": {},
   "outputs": [
    {
     "data": {
      "text/plain": [
       "{1: 'h', 2: 'e', 3: 'l', 4: 'l', 5: 'o', 6: '!'}"
      ]
     },
     "execution_count": 90,
     "metadata": {},
     "output_type": "execute_result"
    }
   ],
   "source": [
    "dict(zip(a,values))"
   ]
  },
  {
   "cell_type": "code",
   "execution_count": null,
   "id": "0012296f",
   "metadata": {},
   "outputs": [],
   "source": [
    "#take two lists with different cars and It's price\n",
    "#create a dictionary\n",
    "# add one more car and its price"
   ]
  }
 ],
 "metadata": {
  "kernelspec": {
   "display_name": "Python 3 (ipykernel)",
   "language": "python",
   "name": "python3"
  },
  "language_info": {
   "codemirror_mode": {
    "name": "ipython",
    "version": 3
   },
   "file_extension": ".py",
   "mimetype": "text/x-python",
   "name": "python",
   "nbconvert_exporter": "python",
   "pygments_lexer": "ipython3",
   "version": "3.11.4"
  }
 },
 "nbformat": 4,
 "nbformat_minor": 5
}
