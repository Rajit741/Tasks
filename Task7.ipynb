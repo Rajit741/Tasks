{
 "cells": [
  {
   "cell_type": "markdown",
   "id": "f02710a3",
   "metadata": {},
   "source": [
    "\n",
    "**Task 1: Dictionary Basics**\n",
    "Create a Python program that defines a dictionary to store information about your `favorite book`. Include the title, author, publication year, and genre as key-value pairs. Print out the dictionary.and do atleast 5 dictionary methods on it.\n",
    "\n",
    "**Task 2: Dictionary Lookup**\n",
    "Write a Python program that simulates a simple dictionary for translating `English words to Spanish`. Define a dictionary containing a few English words as `keys` and their corresponding Spanish translations as `values`. Allow `users to enter` an English word, and then display its Spanish translation `if it exists` in the dictionary.(use google for English to Spanish translator)\n",
    "\n",
    "**Task 3: Student Grades**\n",
    "Create a Python program that stores the `grades of five students` in a dictionary. Allow users to input the names of the students and their respective grades. Calculate and display the `average grade` of the students.\n",
    "\n",
    "**Task 4: Contact List**\n",
    "Build a basic contact list using a dictionary. Initially, the dictionary can be `empty`. Allow users to `add new contacts` with `names and phone numbers`. Users should also be able to search for contacts by name and display their phone numbers(use in operator).\n",
    "\n",
    "**Task 5: Dictionary Iteration**\n",
    "Write a Python program that defines a dictionary containing the names of `fruits as keys` and their corresponding `colors as values` (e.g., 'apple': 'red').Do atleast 5 dictionary methods on it.\n"
   ]
  },
  {
   "cell_type": "code",
   "execution_count": null,
   "id": "f7f1c72f",
   "metadata": {},
   "outputs": [],
   "source": []
  }
 ],
 "metadata": {
  "kernelspec": {
   "display_name": "Python 3 (ipykernel)",
   "language": "python",
   "name": "python3"
  },
  "language_info": {
   "codemirror_mode": {
    "name": "ipython",
    "version": 3
   },
   "file_extension": ".py",
   "mimetype": "text/x-python",
   "name": "python",
   "nbconvert_exporter": "python",
   "pygments_lexer": "ipython3",
   "version": "3.10.10"
  }
 },
 "nbformat": 4,
 "nbformat_minor": 5
}
