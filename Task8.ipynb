{
 "cells": [
  {
   "cell_type": "markdown",
   "id": "21c2b7b2",
   "metadata": {},
   "source": [
    "\n",
    "**Task 1: Basic If-Else Statements**\n",
    "Write a Python program that takes an `integer as input` from the user and prints whether it is `multiple of 3 or not` using if-else statements.\n",
    "\n",
    "**Task 2: Nested If Statements**\n",
    "Create a program that `asks the user` for their `age` and `nationality`. Depending on their age and nationality, display a different message using nested if statements. For example, if they are under 18 and from the USA, display `\"You are a minor from the USA.\"`\n",
    "\n",
    "**Task 3: Grade Calculator**\n",
    "Write a program that takes a student's score as input and converts it to a letter grade (A, B, C, D, or F) using if-elif-else statements. Use the following grading scale:\n",
    "- A: 90-100\n",
    "- B: 80-89\n",
    "- C: 70-79\n",
    "- D: 60-69\n",
    "- F: Below 60\n",
    "\n",
    "**Task 4: Leap Year Checker**\n",
    "Create a Python program that checks if a given year is a leap year or not. Use conditional statements to determine whether the year is divisible by 4, 100, and 400 to decide if it's a leap year.\n",
    "\n",
    "**Task 5: BMI Calculator**\n",
    "Write a program that calculates a person's Body Mass Index (BMI) based on their height and weight. Then, use conditional statements to categorize the BMI as Underweight, Normal, Overweight, or Obese. Provide guidance on the healthy range for BMI.(use BMI Formula)\n",
    "\n",
    "**Task 6: Calculator with Menu**\n",
    "Build a simple calculator program that provides a menu with options for addition, subtraction, multiplication, and division. `Take user input for two numbers`and an `operation choice`. Use conditional statements to perform the selected operation and display the result.\n",
    "\n",
    "**Task 7: Temperature Converter**\n",
    "Write a program that `converts temperatures between Celsius and Fahrenhei`t. Allow the user to `choose` the conversion direction and input the temperature value. Use conditional statements to perform the conversion based on the `user's choice`.(Do with conversion formula)\n"
   ]
  },
  {
   "cell_type": "code",
   "execution_count": null,
   "id": "2e45b106",
   "metadata": {},
   "outputs": [],
   "source": []
  }
 ],
 "metadata": {
  "kernelspec": {
   "display_name": "Python 3 (ipykernel)",
   "language": "python",
   "name": "python3"
  },
  "language_info": {
   "codemirror_mode": {
    "name": "ipython",
    "version": 3
   },
   "file_extension": ".py",
   "mimetype": "text/x-python",
   "name": "python",
   "nbconvert_exporter": "python",
   "pygments_lexer": "ipython3",
   "version": "3.10.10"
  }
 },
 "nbformat": 4,
 "nbformat_minor": 5
}
