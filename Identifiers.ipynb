{
 "cells": [
  {
   "cell_type": "markdown",
   "id": "5efd181d",
   "metadata": {},
   "source": [
    "# Check the valid Identifiers and invalid identifers using Python"
   ]
  },
  {
   "cell_type": "markdown",
   "id": "aebe5a40",
   "metadata": {},
   "source": [
    "1. **Run all the identifiers and seprate valid and Invalid Identifiers?**\n",
    "\n",
    "2. **Why Python treating them as invalid Identifers.Explain?**"
   ]
  },
  {
   "cell_type": "markdown",
   "id": "77c112d3",
   "metadata": {},
   "source": [
    "* my_variable = 25\n",
    "\n",
    "\n",
    "* counter = 40.7\n",
    "\n",
    "\n",
    "* _total = \"Hello\"\n",
    "\n",
    "\n",
    " - 123abc   = 34      \n",
    " \n",
    " - my variable   =6.7\n",
    " \n",
    " - @count  = \"hi\"      \n",
    " \n",
    " - for   = \"True\"\n",
    " \n",
    "\n",
    "* Name123 = 136\n",
    "\n",
    "* myFunction = True\n",
    "\n",
    "* _data = False\n",
    "- if_condition? = \"Innomatics\"\n",
    "- class = \"Hyderabad\""
   ]
  },
  {
   "cell_type": "markdown",
   "id": "35c32a6f",
   "metadata": {},
   "source": [
    "### Use different identifiers and assign the below values"
   ]
  },
  {
   "cell_type": "raw",
   "id": "79a5a221",
   "metadata": {},
   "source": [
    "10\n",
    "-5\n",
    "3.14159\n",
    "-0.12345\n",
    "1000\n",
    "\n",
    "\"Hello, World!\"\n",
    "\"Python\"\n",
    "\"I am learning\"\n",
    "\"Text type\"\n",
    "\"String\"\n",
    "\n",
    "True\n",
    "False\n",
    "True\n",
    "False\n",
    "True\n",
    "\n"
   ]
  },
  {
   "cell_type": "code",
   "execution_count": null,
   "id": "a8ce7a79",
   "metadata": {},
   "outputs": [],
   "source": []
  }
 ],
 "metadata": {
  "kernelspec": {
   "display_name": "Python 3 (ipykernel)",
   "language": "python",
   "name": "python3"
  },
  "language_info": {
   "codemirror_mode": {
    "name": "ipython",
    "version": 3
   },
   "file_extension": ".py",
   "mimetype": "text/x-python",
   "name": "python",
   "nbconvert_exporter": "python",
   "pygments_lexer": "ipython3",
   "version": "3.11.4"
  }
 },
 "nbformat": 4,
 "nbformat_minor": 5
}
