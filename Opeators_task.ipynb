{
 "cells": [
  {
   "cell_type": "markdown",
   "id": "7a7fa8f0",
   "metadata": {},
   "source": [
    "\n",
    "**Task 1: Arithmetic Operators**\n",
    "1. Create a Python script that defines two variables, `num1` and `num2`, with any numeric values.\n",
    "2. Use arithmetic operators (+, -, *, /, //, %, **) to perform the following operations:\n",
    "   - Add `num1` and `num2`.\n",
    "   - Subtract `num2` from `num1`.\n",
    "   - Multiply `num1` and `num2`.\n",
    "   - Divide `num1` by `num2`.\n",
    "   - Find the floor division of `num1` by `num2`.\n",
    "   - Find the remainder when dividing `num1` by `num2`.\n",
    "   - Calculate `num1` raised to the power of `num2`.\n",
    "\n",
    "**Task 2: Logical Operators**\n",
    "1. Create a Python script that defines two boolean variables, `is_sunny` and `is_warm`, with appropriate values (True or False).\n",
    "2. Use logical operators (and, or, not) to create the following conditions:\n",
    "   - Check if it's both sunny and warm and print the result.\n",
    "   - Check if it's either sunny or warm and print the result.\n",
    "   - Check if it's not sunny and print the result.\n",
    "   \n",
    "**Task 3: Comparative Operators**\n",
    "1. Create a Python script that defines two variables, `a` and `b`, with any numeric values.\n",
    "2. Use comparative operators (==, !=, <, >, <=, >=) to create the following conditions:\n",
    "   - Check if `a` is equal to `b` and print the result.\n",
    "   - Check if `a` is not equal to `b` and print the result.\n",
    "   - Check if `a` is less than `b` and print the result.\n",
    "   - Check if `a` is greater than `b` and print the result.\n",
    "   - Check if `a` is less than or equal to `b` and print the result.\n",
    "   - Check if `a` is greater than or equal to `b` and print the result.\n",
    ".\n",
    "\n",
    "**Task4: Concatenation and Repetetion**\n",
    "\n",
    "1. Take two variables as first_name and last_name ..concatenate them.\n",
    "2. print \"Innomatics\" for 5 times in same line."
   ]
  },
  {
   "cell_type": "code",
   "execution_count": null,
   "id": "208f20be",
   "metadata": {},
   "outputs": [],
   "source": []
  }
 ],
 "metadata": {
  "kernelspec": {
   "display_name": "Python 3 (ipykernel)",
   "language": "python",
   "name": "python3"
  },
  "language_info": {
   "codemirror_mode": {
    "name": "ipython",
    "version": 3
   },
   "file_extension": ".py",
   "mimetype": "text/x-python",
   "name": "python",
   "nbconvert_exporter": "python",
   "pygments_lexer": "ipython3",
   "version": "3.11.4"
  }
 },
 "nbformat": 4,
 "nbformat_minor": 5
}
