{
 "cells": [
  {
   "cell_type": "markdown",
   "id": "d2326a53",
   "metadata": {},
   "source": [
    "\n",
    "1. Write a Python code that takes a student's score as input (an integer) and returns their corresponding grade based on the following grading scale:\n",
    "   - 90 or above: 'A'\n",
    "   - 80 to 89: 'B'\n",
    "   - 70 to 79: 'C'\n",
    "   - 60 to 69: 'D'\n",
    "   - Below 60: 'F'\n",
    "\n",
    "   Use nested `if...elif...else` statements to implement this grading system\n",
    "\n",
    "2. write python code to compare given three numbers(normal method)\n",
    "3. Write python code to compare given two number by using normal method and ternary operator.\n",
    "4. Write python code to to verify age by the user input whether they are adult(>18) or children(<18) by using normal method and ternary operator.\n",
    "\n"
   ]
  },
  {
   "cell_type": "code",
   "execution_count": null,
   "id": "1c6e9cd4",
   "metadata": {},
   "outputs": [],
   "source": []
  }
 ],
 "metadata": {
  "kernelspec": {
   "display_name": "Python 3 (ipykernel)",
   "language": "python",
   "name": "python3"
  },
  "language_info": {
   "codemirror_mode": {
    "name": "ipython",
    "version": 3
   },
   "file_extension": ".py",
   "mimetype": "text/x-python",
   "name": "python",
   "nbconvert_exporter": "python",
   "pygments_lexer": "ipython3",
   "version": "3.11.4"
  }
 },
 "nbformat": 4,
 "nbformat_minor": 5
}
